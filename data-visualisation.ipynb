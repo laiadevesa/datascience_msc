{
 "cells": [
  {
   "cell_type": "markdown",
   "metadata": {},
   "source": [
    "# PEC 2 - Visualización de datos"
   ]
  },
  {
   "cell_type": "code",
   "execution_count": null,
   "metadata": {},
   "outputs": [],
   "source": [
    "import pandas as pd\n",
    "import matplotlib.pyplot as plt\n",
    "import numpy as np\n",
    "import matplotlib.dates as mdates\n",
    "from datetime import datetime\n",
    "import plotly.graph_objects as go\n",
    "import nbformat"
   ]
  },
  {
   "cell_type": "markdown",
   "metadata": {},
   "source": [
    "## Técnica 1: Time line"
   ]
  },
  {
   "cell_type": "code",
   "execution_count": null,
   "metadata": {},
   "outputs": [],
   "source": [
    "# Load dataset\n",
    "data = pd.read_csv(\"C:/Users/U1053399/OneDrive - Sanofi/Documents/UOC/sem2/visualizacion de datos/History_of_Mass_Shootings_in_the_USA.csv\")\n",
    "\n",
    "# Definición de los datos\n",
    "data[\"Date\"] = pd.to_datetime(data[\"Date\"], format=\"%d-%m-%Y\")\n",
    "data = data.drop_duplicates(subset=[\"Date\"], keep=\"first\")\n",
    "data_2022 = data[data[\"Date\"].dt.year == 2022]\n",
    "data_2022 = data.head(40)\n",
    "dates = data_2022[\"Date\"] \n",
    "city = data_2022[\"City\"]\n",
    "dead = data_2022[\"Dead\"]\n"
   ]
  },
  {
   "cell_type": "code",
   "execution_count": null,
   "metadata": {},
   "outputs": [],
   "source": [
    "# Create timeline with Matplotlib\n",
    "\n",
    "# Choose some nice levels\n",
    "levels = np.tile([-5, 5, -3, 3, -1, 1], int(np.ceil(len(dates)/6)))[:len(dates)]\n",
    "levels = dead\n",
    "\n",
    "# Create figure and plot a stem plot with the date\n",
    "fig, ax = plt.subplots(figsize=(30, 10), constrained_layout=True)\n",
    "ax.set_title(\"Tiroteos masivos en EEUU 2022\", fontsize=40)\n",
    "\n",
    "\n",
    "ax.vlines(dates, 0, levels, color=\"tab:red\")  # The vertical stems.\n",
    "ax.plot(dates, np.zeros_like(dates), \"-o\",\n",
    "        color=\"k\", markerfacecolor=\"w\")  # Baseline and markers on it.\n",
    "\n",
    "# Annotate lines with city name and date under it\n",
    "for d, l, r in zip(dates, levels, city):\n",
    "    ax.annotate(f\"{r}\\n{d.strftime('%d-%m-%Y')}\", xy=(d, l),  # City name on top, date below\n",
    "                xytext=(-3, np.sign(l)*3), textcoords=\"offset points\",\n",
    "                horizontalalignment=\"center\",  # Center-align text\n",
    "                verticalalignment=\"bottom\" if l > 0 else \"top\",\n",
    "                rotation=35)  # Rotate labels for better readability\n",
    "\n",
    "\n",
    "\n",
    "# format xaxis with 4 month intervals\n",
    "ax.xaxis.set_major_locator(mdates.MonthLocator(interval=1))\n",
    "ax.xaxis.set_major_formatter(mdates.DateFormatter(\"%b %Y\"))\n",
    "plt.setp(ax.get_xticklabels(), rotation=30, ha=\"right\")\n",
    "\n",
    "# remove y axis and spines\n",
    "ax.yaxis.set_visible(False)\n",
    "ax.spines[[\"left\", \"top\", \"right\"]].set_visible(False)\n",
    "\n",
    "ax.margins(y=0.1)\n",
    "plt.show()"
   ]
  },
  {
   "cell_type": "markdown",
   "metadata": {},
   "source": [
    "## Técnica 2: Candlestick chart\n",
    "Creado en Flourish"
   ]
  },
  {
   "cell_type": "markdown",
   "metadata": {},
   "source": [
    "## Técnica 3: Tile grid map"
   ]
  },
  {
   "cell_type": "markdown",
   "metadata": {},
   "source": [
    "data = pd.read_csv(r\"C:/Users/U1053399/Downloads/archive/microsoft-stock-dataset-Daily.csv\")\n",
    "data"
   ]
  },
  {
   "cell_type": "code",
   "execution_count": null,
   "metadata": {},
   "outputs": [],
   "source": []
  }
 ],
 "metadata": {
  "kernelspec": {
   "display_name": "Python 3",
   "language": "python",
   "name": "python3"
  },
  "language_info": {
   "codemirror_mode": {
    "name": "ipython",
    "version": 3
   },
   "file_extension": ".py",
   "mimetype": "text/x-python",
   "name": "python",
   "nbconvert_exporter": "python",
   "pygments_lexer": "ipython3",
   "version": "3.12.1"
  }
 },
 "nbformat": 4,
 "nbformat_minor": 2
}
